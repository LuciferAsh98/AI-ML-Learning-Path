{
  "nbformat": 4,
  "nbformat_minor": 0,
  "metadata": {
    "colab": {
      "provenance": [],
      "authorship_tag": "ABX9TyO4h5Ty3CUPtOP/dlnjMG2y",
      "include_colab_link": true
    },
    "kernelspec": {
      "name": "python3",
      "display_name": "Python 3"
    },
    "language_info": {
      "name": "python"
    }
  },
  "cells": [
    {
      "cell_type": "markdown",
      "metadata": {
        "id": "view-in-github",
        "colab_type": "text"
      },
      "source": [
        "<a href=\"https://colab.research.google.com/github/LuciferAsh98/AI-ML-Learning-Path/blob/main/HouseModelPrice_Bangalore.ipynb\" target=\"_parent\"><img src=\"https://colab.research.google.com/assets/colab-badge.svg\" alt=\"Open In Colab\"/></a>"
      ]
    },
    {
      "cell_type": "code",
      "source": [
        "import pandas as pd\n",
        "from sklearn.model_selection import train_test_split\n",
        "from sklearn.linear_model import LinearRegression\n",
        "from sklearn.metrics import r2_score\n",
        "import joblib\n",
        "\n",
        "# Load the dataset\n",
        "file_path = 'bengaluru_house_prices.csv'\n",
        "data = pd.read_csv(file_path)\n",
        "\n",
        "# Data preprocessing\n",
        "# Dropping unnecessary columns\n",
        "data = data.drop(['area_type', 'society', 'balcony', 'availability'], axis='columns')\n",
        "\n",
        "# Handling missing values\n",
        "data = data.dropna()\n",
        "data['bhk'] = data['size'].apply(lambda x: int(x.split(' ')[0]))\n",
        "\n",
        "# Convert total_sqft to a numerical value\n",
        "def convert_sqft_to_num(x):\n",
        "    tokens = x.split('-')\n",
        "    if len(tokens) == 2:\n",
        "        return (float(tokens[0]) + float(tokens[1])) / 2\n",
        "    try:\n",
        "        return float(x)\n",
        "    except:\n",
        "        return None\n",
        "\n",
        "data['total_sqft'] = data['total_sqft'].apply(convert_sqft_to_num)\n",
        "data = data[data['total_sqft'].notnull()]\n",
        "\n",
        "# Removing outliers\n",
        "data = data[~(data.total_sqft / data.bhk < 300)]\n",
        "data['price_per_sqft'] = data['price'] * 100000 / data['total_sqft']\n",
        "\n",
        "# Location preprocessing\n",
        "data.location = data.location.apply(lambda x: x.strip())\n",
        "location_stats = data.groupby('location')['location'].agg('count').sort_values(ascending=False)\n",
        "location_stats_less_than_10 = location_stats[location_stats <= 10]\n",
        "data.location = data.location.apply(lambda x: 'other' if x in location_stats_less_than_10 else x)\n",
        "\n",
        "# Save unique locations\n",
        "unique_locations = data['location'].unique().tolist()\n",
        "with open('unique_locations.pkl', 'wb') as f:\n",
        "    joblib.dump(unique_locations, f)\n",
        "\n",
        "# Removing more outliers\n",
        "def remove_pps_outliers(df):\n",
        "    df_out = pd.DataFrame()\n",
        "    for key, subdf in df.groupby('location'):\n",
        "        m = np.mean(subdf.price_per_sqft)\n",
        "        st = np.std(subdf.price_per_sqft)\n",
        "        reduced_df = subdf[(subdf.price_per_sqft > (m - st)) & (subdf.price_per_sqft <= (m + st))]\n",
        "        df_out = pd.concat([df_out, reduced_df], ignore_index=True)\n",
        "    return df_out\n",
        "\n",
        "data = remove_pps_outliers(data)\n",
        "\n",
        "# Remove BHK outliers\n",
        "def remove_bhk_outliers(df):\n",
        "    exclude_indices = np.array([])\n",
        "    for location, location_df in df.groupby('location'):\n",
        "        bhk_stats = {}\n",
        "        for bhk, bhk_df in location_df.groupby('bhk'):\n",
        "            bhk_stats[bhk] = {\n",
        "                'mean': np.mean(bhk_df.price_per_sqft),\n",
        "                'std': np.std(bhk_df.price_per_sqft),\n",
        "                'count': bhk_df.shape[0]\n",
        "            }\n",
        "        for bhk, bhk_df in location_df.groupby('bhk'):\n",
        "            stats = bhk_stats.get(bhk - 1)\n",
        "            if stats and stats['count'] > 5:\n",
        "                exclude_indices = np.append(exclude_indices, bhk_df[bhk_df.price_per_sqft < (stats['mean'])].index.values)\n",
        "    return df.drop(exclude_indices, axis='index')\n",
        "\n",
        "data = remove_bhk_outliers(data)\n",
        "\n",
        "# Final clean up\n",
        "data = data[data.bath < data.bhk + 2]\n",
        "data = data.drop(['size', 'price_per_sqft'], axis='columns')\n",
        "\n",
        "# Encoding categorical data\n",
        "data = pd.get_dummies(data, columns=['location'], drop_first=True)\n",
        "\n",
        "# Split data into features and target\n",
        "X = data.drop('price', axis=1)\n",
        "y = data['price']\n",
        "\n",
        "# Split the data into training and testing sets\n",
        "X_train, X_test, y_train, y_test = train_test_split(X, y, test_size=0.2, random_state=10)\n",
        "\n",
        "# Train the Linear Regression model\n",
        "lr_clf = LinearRegression()\n",
        "lr_clf.fit(X_train, y_train)\n",
        "\n",
        "# Predict and evaluate the model\n",
        "y_pred = lr_clf.predict(X_test)\n",
        "r2 = r2_score(y_test, y_pred)\n",
        "print(f'R2 Score: {r2}')\n",
        "\n",
        "# Save the trained model\n",
        "joblib.dump(lr_clf, 'house_price_model.pkl')\n",
        "\n",
        "# Save the feature names\n",
        "feature_names = X_train.columns.tolist()\n",
        "with open('feature_names.pkl', 'wb') as f:\n",
        "    joblib.dump(feature_names, f)\n"
      ],
      "metadata": {
        "colab": {
          "base_uri": "https://localhost:8080/"
        },
        "id": "hzVzW7PE3wt-",
        "outputId": "9bfabe6f-c4ce-498d-b727-80c33e44eded"
      },
      "execution_count": 5,
      "outputs": [
        {
          "output_type": "stream",
          "name": "stdout",
          "text": [
            "R2 Score: 0.832826842305397\n"
          ]
        }
      ]
    },
    {
      "cell_type": "code",
      "source": [],
      "metadata": {
        "id": "7dgrB9-N3zmg"
      },
      "execution_count": null,
      "outputs": []
    }
  ]
}