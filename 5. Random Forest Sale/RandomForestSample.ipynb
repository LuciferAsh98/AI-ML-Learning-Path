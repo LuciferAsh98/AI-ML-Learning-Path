{
  "nbformat": 4,
  "nbformat_minor": 0,
  "metadata": {
    "colab": {
      "provenance": [],
      "authorship_tag": "ABX9TyMp1Ab0nZr7oc3xhN2uwjhC",
      "include_colab_link": true
    },
    "kernelspec": {
      "name": "python3",
      "display_name": "Python 3"
    },
    "language_info": {
      "name": "python"
    }
  },
  "cells": [
    {
      "cell_type": "markdown",
      "metadata": {
        "id": "view-in-github",
        "colab_type": "text"
      },
      "source": [
        "<a href=\"https://colab.research.google.com/github/LuciferAsh98/AI-ML-Learning-Path/blob/main/RandomForestSample.ipynb\" target=\"_parent\"><img src=\"https://colab.research.google.com/assets/colab-badge.svg\" alt=\"Open In Colab\"/></a>"
      ]
    },
    {
      "cell_type": "markdown",
      "source": [
        "**Step 1:** Load the Correct Files"
      ],
      "metadata": {
        "id": "n5u3sxqHXxex"
      }
    },
    {
      "cell_type": "code",
      "execution_count": 9,
      "metadata": {
        "colab": {
          "base_uri": "https://localhost:8080/"
        },
        "id": "KVq_ZODqV5_Q",
        "outputId": "f7bf8ea9-3872-43e8-bae7-bbdfb4bb21e5"
      },
      "outputs": [
        {
          "output_type": "stream",
          "name": "stdout",
          "text": [
            "Training Data:\n",
            "   Unnamed: 0  index                                               text  \\\n",
            "0           0  11709  Malicious version of My First APP, which adds ...   \n",
            "1           1   4382  HYPERSCRAPE demonstrates Charming Kitten’s com...   \n",
            "2           2  12581  This looked similar to an earlier in-the-wild ...   \n",
            "3           3  11292  We need to request that a download link be gen...   \n",
            "4           4  13494  Some malicious actors, such as ransomware oper...   \n",
            "\n",
            "                                            entities relations Comments  \\\n",
            "0  [{'id': 36090, 'label': 'malware', 'start_offs...        []       []   \n",
            "1  [{'id': 13145, 'label': 'threat-actor', 'start...        []       []   \n",
            "2                                                 []        []       []   \n",
            "3                                                 []        []       []   \n",
            "4                                                 []        []       []   \n",
            "\n",
            "        id         label  start_offset  end_offset  \n",
            "0  36090.0       malware          46.0        56.0  \n",
            "1  13145.0  threat-actor          25.0        40.0  \n",
            "2      NaN           NaN           NaN         NaN  \n",
            "3      NaN           NaN           NaN         NaN  \n",
            "4      NaN           NaN           NaN         NaN  \n",
            "\n",
            "Validation Data:\n",
            "   Unnamed: 0  index                                               text  \\\n",
            "0           0  10444  You need to make sure your business is protected.   \n",
            "1           1   6237  While Earth Wendigo uses typical spear-phishin...   \n",
            "2           2   1664   The initial packet from the client to the ser...   \n",
            "3           3  11460  APP has a strong track record protecting users...   \n",
            "4           4   5835  Information warfare, PSYOPs, psychology operat...   \n",
            "\n",
            "                                            entities relations Comments  \\\n",
            "0                                                 []        []       []   \n",
            "1  [{'id': 19240, 'label': 'threat-actor', 'start...        []       []   \n",
            "2                                                 []        []       []   \n",
            "3  [{'id': 35019, 'label': 'location', 'start_off...        []       []   \n",
            "4                                                 []        []       []   \n",
            "\n",
            "        id         label  start_offset  end_offset  \n",
            "0      NaN           NaN           NaN         NaN  \n",
            "1  19240.0  threat-actor           6.0        19.0  \n",
            "2      NaN           NaN           NaN         NaN  \n",
            "3  35019.0      location          10.0        16.0  \n",
            "4      NaN           NaN           NaN         NaN  \n",
            "\n",
            "Test Data:\n",
            "   Unnamed: 0  index                                               text  \\\n",
            "0           0   8565  APT35 has relied on this technique since 2017 ...   \n",
            "1           1   9899                                           Table 1.   \n",
            "2           2  10086  This specific set of circumstances makes analy...   \n",
            "3           3  10904  The domain was acquired via the Porkbun networ...   \n",
            "4           4   4952  To send the notification, they use the Telegra...   \n",
            "\n",
            "                                            entities relations Comments  \\\n",
            "0  [{'id': 26465, 'label': 'threat-actor', 'start...        []       []   \n",
            "1                                                 []        []       []   \n",
            "2                                                 []        []       []   \n",
            "3                                                 []        []       []   \n",
            "4  [{'id': 50977, 'label': 'SOFTWARE', 'start_off...        []       []   \n",
            "\n",
            "        id         label  start_offset  end_offset  \n",
            "0  26465.0  threat-actor           0.0         5.0  \n",
            "1      NaN           NaN           NaN         NaN  \n",
            "2      NaN           NaN           NaN         NaN  \n",
            "3      NaN           NaN           NaN         NaN  \n",
            "4  50977.0      SOFTWARE          39.0        47.0  \n"
          ]
        }
      ],
      "source": [
        "import pandas as pd\n",
        "\n",
        "# Load the datasets\n",
        "train_df = pd.read_csv('cyber-threat-intelligence-splited_train.csv')\n",
        "validate_df = pd.read_csv('cyber-threat-intelligence-splited_validate.csv')\n",
        "test_df = pd.read_csv('cyber-threat-intelligence-splited_test.csv')\n",
        "\n",
        "# Display the first few rows of each dataset\n",
        "print(\"Training Data:\")\n",
        "print(train_df.head())\n",
        "print(\"\\nValidation Data:\")\n",
        "print(validate_df.head())\n",
        "print(\"\\nTest Data:\")\n",
        "print(test_df.head())\n"
      ]
    },
    {
      "cell_type": "markdown",
      "source": [
        "**Step 2:** Data Preprocessing"
      ],
      "metadata": {
        "id": "tFcqNM9pXwhz"
      }
    },
    {
      "cell_type": "markdown",
      "source": [
        "**Step 3.1:** Tokenizing the text"
      ],
      "metadata": {
        "id": "0_xBfvH2YMot"
      }
    },
    {
      "cell_type": "code",
      "source": [
        "from keras.preprocessing.text import Tokenizer\n",
        "from keras.preprocessing.sequence import pad_sequences\n",
        "\n",
        "# Parameters\n",
        "max_words = 10000  # Maximum number of words to keep, based on word frequency\n",
        "max_len = 100  # Maximum length of sequences\n",
        "\n",
        "# Tokenize the text\n",
        "tokenizer = Tokenizer(num_words=max_words)\n",
        "tokenizer.fit_on_texts(train_df['text'])\n",
        "\n",
        "# Convert text to sequences\n",
        "train_sequences = tokenizer.texts_to_sequences(train_df['text'])\n",
        "validate_sequences = tokenizer.texts_to_sequences(validate_df['text'])\n",
        "test_sequences = tokenizer.texts_to_sequences(test_df['text'])\n",
        "\n",
        "# Pad sequences to ensure uniform input length\n",
        "x_train = pad_sequences(train_sequences, maxlen=max_len)\n",
        "x_validate = pad_sequences(validate_sequences, maxlen=max_len)\n",
        "x_test = pad_sequences(test_sequences, maxlen=max_len)\n",
        "\n",
        "# Print the shape of the data\n",
        "print(\"Training data shape:\", x_train.shape)\n",
        "print(\"Validation data shape:\", x_validate.shape)\n",
        "print(\"Test data shape:\", x_test.shape)\n"
      ],
      "metadata": {
        "colab": {
          "base_uri": "https://localhost:8080/"
        },
        "id": "597gyWKPXvdO",
        "outputId": "fca4d818-0913-447f-e7bb-82916261066d"
      },
      "execution_count": 10,
      "outputs": [
        {
          "output_type": "stream",
          "name": "stdout",
          "text": [
            "Training data shape: (6812, 100)\n",
            "Validation data shape: (1460, 100)\n",
            "Test data shape: (1460, 100)\n"
          ]
        }
      ]
    },
    {
      "cell_type": "markdown",
      "source": [
        "**Step 3.2:** Creating Input Features and Labels"
      ],
      "metadata": {
        "id": "A47tRnfHYP_T"
      }
    },
    {
      "cell_type": "code",
      "source": [
        "from sklearn.preprocessing import LabelEncoder\n",
        "from keras.utils import to_categorical\n",
        "\n",
        "# Extract labels\n",
        "y_train = train_df['label']\n",
        "y_validate = validate_df['label']\n",
        "y_test = test_df['label']\n",
        "\n",
        "# Encode the labels\n",
        "label_encoder = LabelEncoder()\n",
        "y_train = label_encoder.fit_transform(y_train)\n",
        "y_validate = label_encoder.transform(y_validate)\n",
        "y_test = label_encoder.transform(y_test)\n",
        "\n",
        "# Convert labels to categorical (one-hot encoding)\n",
        "y_train = to_categorical(y_train)\n",
        "y_validate = to_categorical(y_validate)\n",
        "y_test = to_categorical(y_test)\n",
        "\n",
        "# Print the shape of the labels\n",
        "print(\"Training labels shape:\", y_train.shape)\n",
        "print(\"Validation labels shape:\", y_validate.shape)\n",
        "print(\"Test labels shape:\", y_test.shape)\n"
      ],
      "metadata": {
        "colab": {
          "base_uri": "https://localhost:8080/"
        },
        "id": "Gog9tSBMYSwu",
        "outputId": "d438aad5-b29d-4173-8e43-3defeff7b9c7"
      },
      "execution_count": 11,
      "outputs": [
        {
          "output_type": "stream",
          "name": "stdout",
          "text": [
            "Training labels shape: (6812, 21)\n",
            "Validation labels shape: (1460, 21)\n",
            "Test labels shape: (1460, 21)\n"
          ]
        }
      ]
    },
    {
      "cell_type": "markdown",
      "source": [
        "**Step 4:** Building the Neural Network Model"
      ],
      "metadata": {
        "id": "Fz_81TbKYaoG"
      }
    },
    {
      "cell_type": "markdown",
      "source": [
        "**Step 4.1:** Determine the maximum sequence length from the 'text' column:"
      ],
      "metadata": {
        "id": "w1Y7e7qmYkNw"
      }
    },
    {
      "cell_type": "code",
      "source": [
        "# Extract text features from training data\n",
        "train_texts = train_df['text']\n",
        "\n",
        "# Determine the maximum sequence length in the training data\n",
        "max_length = train_texts.apply(lambda x: len(x.split())).max()\n",
        "\n",
        "print(f\"Maximum sequence length: {max_length}\")\n"
      ],
      "metadata": {
        "colab": {
          "base_uri": "https://localhost:8080/"
        },
        "id": "vj8wZvzgYb7e",
        "outputId": "b59383c3-e9c3-4399-bcdd-8f4106f91eb9"
      },
      "execution_count": 13,
      "outputs": [
        {
          "output_type": "stream",
          "name": "stdout",
          "text": [
            "Maximum sequence length: 323\n"
          ]
        }
      ]
    },
    {
      "cell_type": "markdown",
      "source": [
        "**Step 4.2:** Define and compile the model:"
      ],
      "metadata": {
        "id": "3_uDPNdfY48_"
      }
    },
    {
      "cell_type": "code",
      "source": [
        "from keras.models import Sequential\n",
        "from keras.layers import Embedding, LSTM, Dense\n",
        "\n",
        "# Define the model\n",
        "model = Sequential()\n",
        "model.add(Embedding(input_dim=5000, output_dim=64, input_length=323))  # Using max_length = 323\n",
        "model.add(LSTM(64))\n",
        "model.add(Dense(21, activation='softmax'))\n",
        "\n",
        "# Compile the model\n",
        "model.compile(loss='categorical_crossentropy', optimizer='adam', metrics=['accuracy'])\n",
        "\n",
        "model.summary()\n"
      ],
      "metadata": {
        "colab": {
          "base_uri": "https://localhost:8080/"
        },
        "id": "fKBbtf-VY6d1",
        "outputId": "b99efbe7-f0ba-4c5f-95d2-c7a77030e1a4"
      },
      "execution_count": 14,
      "outputs": [
        {
          "output_type": "stream",
          "name": "stdout",
          "text": [
            "Model: \"sequential_1\"\n",
            "_________________________________________________________________\n",
            " Layer (type)                Output Shape              Param #   \n",
            "=================================================================\n",
            " embedding (Embedding)       (None, 323, 64)           320000    \n",
            "                                                                 \n",
            " lstm (LSTM)                 (None, 64)                33024     \n",
            "                                                                 \n",
            " dense (Dense)               (None, 21)                1365      \n",
            "                                                                 \n",
            "=================================================================\n",
            "Total params: 354389 (1.35 MB)\n",
            "Trainable params: 354389 (1.35 MB)\n",
            "Non-trainable params: 0 (0.00 Byte)\n",
            "_________________________________________________________________\n"
          ]
        }
      ]
    },
    {
      "cell_type": "markdown",
      "source": [
        "**Step 5:** Tokenize and pad the text data"
      ],
      "metadata": {
        "id": "QTQhzhcAZBv_"
      }
    },
    {
      "cell_type": "code",
      "source": [
        "from keras.preprocessing.text import Tokenizer\n",
        "from keras.preprocessing.sequence import pad_sequences\n",
        "\n",
        "# Initialize the tokenizer\n",
        "tokenizer = Tokenizer(num_words=5000)\n",
        "tokenizer.fit_on_texts(train_df['text'])\n",
        "\n",
        "# Convert text data to sequences\n",
        "train_sequences = tokenizer.texts_to_sequences(train_df['text'])\n",
        "validate_sequences = tokenizer.texts_to_sequences(validate_df['text'])\n",
        "test_sequences = tokenizer.texts_to_sequences(test_df['text'])\n",
        "\n",
        "# Pad the sequences\n",
        "train_padded = pad_sequences(train_sequences, maxlen=323)\n",
        "validate_padded = pad_sequences(validate_sequences, maxlen=323)\n",
        "test_padded = pad_sequences(test_sequences, maxlen=323)\n"
      ],
      "metadata": {
        "id": "kqpjj9K3ZBkp"
      },
      "execution_count": 15,
      "outputs": []
    },
    {
      "cell_type": "markdown",
      "source": [
        "**Step 6:** Fit the model to the training data"
      ],
      "metadata": {
        "id": "BhJNLHrcZIAw"
      }
    },
    {
      "cell_type": "code",
      "source": [
        "# Check variable names for labels\n",
        "print(\"Available variables:\")\n",
        "print(dir())\n",
        "\n",
        "\n"
      ],
      "metadata": {
        "colab": {
          "base_uri": "https://localhost:8080/"
        },
        "id": "ZVPa2WHgZIHT",
        "outputId": "a08aab74-1f50-43fa-d8eb-84afd84145fb"
      },
      "execution_count": 19,
      "outputs": [
        {
          "output_type": "stream",
          "name": "stdout",
          "text": [
            "Available variables:\n",
            "['Dense', 'Embedding', 'In', 'LSTM', 'LabelEncoder', 'Out', 'Sequential', 'Tokenizer', '_', '__', '___', '__builtin__', '__builtins__', '__doc__', '__loader__', '__name__', '__package__', '__spec__', '_dh', '_i', '_i1', '_i10', '_i11', '_i12', '_i13', '_i14', '_i15', '_i16', '_i17', '_i18', '_i19', '_i2', '_i3', '_i4', '_i5', '_i6', '_i7', '_i8', '_i9', '_ih', '_ii', '_iii', '_oh', 'exit', 'get_ipython', 'label_encoder', 'max_len', 'max_length', 'max_words', 'model', 'pad_sequences', 'pd', 'quit', 'test_df', 'test_padded', 'test_sequences', 'to_categorical', 'tokenizer', 'train_df', 'train_padded', 'train_sequences', 'train_texts', 'validate_df', 'validate_padded', 'validate_sequences', 'x_test', 'x_train', 'x_validate', 'y_test', 'y_train', 'y_validate']\n"
          ]
        }
      ]
    },
    {
      "cell_type": "code",
      "source": [
        "# Fit the model to the training data\n",
        "history = model.fit(\n",
        "    train_padded,\n",
        "    y_train,\n",
        "    epochs=10,\n",
        "    batch_size=32,\n",
        "    validation_data=(validate_padded, y_validate)\n",
        ")\n"
      ],
      "metadata": {
        "colab": {
          "base_uri": "https://localhost:8080/"
        },
        "id": "fSCURKJGZYcE",
        "outputId": "8253fb94-3119-429f-a54c-0194b32f3837"
      },
      "execution_count": 20,
      "outputs": [
        {
          "output_type": "stream",
          "name": "stdout",
          "text": [
            "Epoch 1/10\n",
            "213/213 [==============================] - 49s 219ms/step - loss: 1.8970 - accuracy: 0.5068 - val_loss: 1.5635 - val_accuracy: 0.5692\n",
            "Epoch 2/10\n",
            "213/213 [==============================] - 49s 229ms/step - loss: 1.5577 - accuracy: 0.5521 - val_loss: 1.5090 - val_accuracy: 0.5719\n",
            "Epoch 3/10\n",
            "213/213 [==============================] - 46s 214ms/step - loss: 1.3821 - accuracy: 0.5895 - val_loss: 1.4737 - val_accuracy: 0.5938\n",
            "Epoch 4/10\n",
            "213/213 [==============================] - 46s 214ms/step - loss: 1.1765 - accuracy: 0.6585 - val_loss: 1.4613 - val_accuracy: 0.6130\n",
            "Epoch 5/10\n",
            "213/213 [==============================] - 46s 218ms/step - loss: 0.9806 - accuracy: 0.7198 - val_loss: 1.4315 - val_accuracy: 0.6137\n",
            "Epoch 6/10\n",
            "213/213 [==============================] - 48s 225ms/step - loss: 0.8091 - accuracy: 0.7720 - val_loss: 1.4042 - val_accuracy: 0.6363\n",
            "Epoch 7/10\n",
            "213/213 [==============================] - 46s 214ms/step - loss: 0.6523 - accuracy: 0.8180 - val_loss: 1.4243 - val_accuracy: 0.6370\n",
            "Epoch 8/10\n",
            "213/213 [==============================] - 46s 214ms/step - loss: 0.5574 - accuracy: 0.8406 - val_loss: 1.4665 - val_accuracy: 0.6260\n",
            "Epoch 9/10\n",
            "213/213 [==============================] - 48s 227ms/step - loss: 0.4537 - accuracy: 0.8771 - val_loss: 1.5395 - val_accuracy: 0.6507\n",
            "Epoch 10/10\n",
            "213/213 [==============================] - 45s 211ms/step - loss: 0.3694 - accuracy: 0.8950 - val_loss: 1.5635 - val_accuracy: 0.6466\n"
          ]
        }
      ]
    },
    {
      "cell_type": "markdown",
      "source": [
        "**Step 7:**  Plot training and validation loss & accuracy"
      ],
      "metadata": {
        "id": "a8o2VcT1bg04"
      }
    },
    {
      "cell_type": "code",
      "source": [
        "import matplotlib.pyplot as plt\n",
        "\n",
        "# Plot the training and validation loss\n",
        "plt.figure(figsize=(12, 4))\n",
        "plt.subplot(1, 2, 1)\n",
        "plt.plot(history.history['loss'], label='Training Loss')\n",
        "plt.plot(history.history['val_loss'], label='Validation Loss')\n",
        "plt.xlabel('Epoch')\n",
        "plt.ylabel('Loss')\n",
        "plt.title('Training and Validation Loss')\n",
        "plt.legend()\n",
        "\n",
        "# Plot the training and validation accuracy\n",
        "plt.subplot(1, 2, 2)\n",
        "plt.plot(history.history['accuracy'], label='Training Accuracy')\n",
        "plt.plot(history.history['val_accuracy'], label='Validation Accuracy')\n",
        "plt.xlabel('Epoch')\n",
        "plt.ylabel('Accuracy')\n",
        "plt.title('Training and Validation Accuracy')\n",
        "plt.legend()\n",
        "\n",
        "plt.show()\n"
      ],
      "metadata": {
        "colab": {
          "base_uri": "https://localhost:8080/",
          "height": 430
        },
        "id": "PbS4RaOsblWe",
        "outputId": "96abe607-b2fc-4f23-a721-dbf80659d267"
      },
      "execution_count": 21,
      "outputs": [
        {
          "output_type": "display_data",
          "data": {
            "text/plain": [
              "<Figure size 1200x400 with 2 Axes>"
            ],
            "image/png": "[encoded data removed]"
          },
          "metadata": {}
        }
      ]
    },
    {
      "cell_type": "code",
      "source": [
        "# Evaluate the model on the test data\n",
        "test_loss, test_accuracy = model.evaluate(test_padded, y_test)\n",
        "print(f\"Test Loss: {test_loss}\")\n",
        "print(f\"Test Accuracy: {test_accuracy}\")\n",
        "\n",
        "# Make predictions on the test data\n",
        "test_predictions = model.predict(test_padded)\n",
        "\n",
        "# You can now analyze the predictions or calculate additional metrics as needed\n"
      ],
      "metadata": {
        "colab": {
          "base_uri": "https://localhost:8080/"
        },
        "id": "yMr7Cx-SeZ8n",
        "outputId": "6d4e1059-f291-4a0f-bb85-0dcd5512d539"
      },
      "execution_count": 22,
      "outputs": [
        {
          "output_type": "stream",
          "name": "stdout",
          "text": [
            "46/46 [==============================] - 5s 104ms/step - loss: 1.7007 - accuracy: 0.6329\n",
            "Test Loss: 1.7006819248199463\n",
            "Test Accuracy: 0.6328766942024231\n",
            "46/46 [==============================] - 6s 117ms/step\n"
          ]
        }
      ]
    },
    {
      "cell_type": "code",
      "source": [
        "# Evaluate the model on the test data\n",
        "test_loss, test_accuracy = model.evaluate(test_padded, y_test)\n",
        "test_loss, test_accuracy\n"
      ],
      "metadata": {
        "colab": {
          "base_uri": "https://localhost:8080/"
        },
        "id": "pC5XX3gte_PT",
        "outputId": "f4ab66f5-3322-49a2-fbb0-3552712bc8dd"
      },
      "execution_count": 23,
      "outputs": [
        {
          "output_type": "stream",
          "name": "stdout",
          "text": [
            "46/46 [==============================] - 6s 127ms/step - loss: 1.7007 - accuracy: 0.6329\n"
          ]
        },
        {
          "output_type": "execute_result",
          "data": {
            "text/plain": [
              "(1.7006819248199463, 0.6328766942024231)"
            ]
          },
          "metadata": {},
          "execution_count": 23
        }
      ]
    }
  ]
}